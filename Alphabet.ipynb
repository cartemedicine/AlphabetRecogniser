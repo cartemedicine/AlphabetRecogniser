{
 "cells": [
  {
   "cell_type": "code",
   "execution_count": 1,
   "id": "2f0d9389",
   "metadata": {},
   "outputs": [],
   "source": [
    "import matplotlib.pyplot as plt\n",
    "import numpy as np\n",
    "import PIL\n",
    "import tensorflow as tf\n",
    "\n",
    "from tensorflow import keras\n",
    "from tensorflow.keras import layers\n",
    "from tensorflow.keras.models import Sequential"
   ]
  },
  {
   "cell_type": "code",
   "execution_count": 2,
   "id": "7dd9372e",
   "metadata": {},
   "outputs": [
    {
     "name": "stdout",
     "output_type": "stream",
     "text": [
      "56160\n"
     ]
    }
   ],
   "source": [
    "import pathlib\n",
    "\n",
    "data_dir = pathlib.Path(\"./Alphabets\")\n",
    "image_count = len(list(data_dir.glob('*/*.png')))\n",
    "print(image_count)"
   ]
  },
  {
   "cell_type": "code",
   "execution_count": 3,
   "id": "06d6fc23",
   "metadata": {},
   "outputs": [],
   "source": [
    "batch_size = 32\n",
    "img_height = 40\n",
    "img_width = 40"
   ]
  },
  {
   "cell_type": "code",
   "execution_count": 4,
   "id": "c6a30394",
   "metadata": {},
   "outputs": [
    {
     "name": "stdout",
     "output_type": "stream",
     "text": [
      "Found 56160 files belonging to 26 classes.\n",
      "Using 44928 files for training.\n"
     ]
    }
   ],
   "source": [
    "train_ds = tf.keras.utils.image_dataset_from_directory(\n",
    "  data_dir,\n",
    "  validation_split=0.2,\n",
    "  subset=\"training\",\n",
    "  seed=123,\n",
    "  image_size=(img_height, img_width),\n",
    "  batch_size=batch_size)"
   ]
  },
  {
   "cell_type": "code",
   "execution_count": 5,
   "id": "bf36013b",
   "metadata": {},
   "outputs": [
    {
     "name": "stdout",
     "output_type": "stream",
     "text": [
      "Found 56160 files belonging to 26 classes.\n",
      "Using 11232 files for validation.\n"
     ]
    }
   ],
   "source": [
    "val_ds = tf.keras.utils.image_dataset_from_directory(\n",
    "  data_dir,\n",
    "  validation_split=0.2,\n",
    "  subset=\"validation\",\n",
    "  seed=123,\n",
    "  image_size=(img_height, img_width),\n",
    "  batch_size=batch_size)"
   ]
  },
  {
   "cell_type": "code",
   "execution_count": 6,
   "id": "2b57b0c1",
   "metadata": {},
   "outputs": [
    {
     "name": "stdout",
     "output_type": "stream",
     "text": [
      "['a', 'b', 'c', 'd', 'e', 'f', 'g', 'h', 'i', 'j', 'k', 'l', 'm', 'n', 'o', 'p', 'q', 'r', 's', 't', 'u', 'v', 'w', 'x', 'y', 'z']\n"
     ]
    }
   ],
   "source": [
    "class_names = train_ds.class_names\n",
    "print(class_names)"
   ]
  },
  {
   "cell_type": "code",
   "execution_count": 7,
   "id": "98045479",
   "metadata": {},
   "outputs": [],
   "source": [
    "f = open(\"labels.txt\", \"a\")\n",
    "for cn in class_names:\n",
    "    f.write(cn + \"\\n\") \n",
    "f.close()\n"
   ]
  },
  {
   "cell_type": "code",
   "execution_count": 9,
   "id": "a8648bf9",
   "metadata": {},
   "outputs": [],
   "source": [
    "num_classes = len(class_names)\n",
    "\n",
    "model = Sequential([\n",
    "  layers.Rescaling(1./255, input_shape=(img_height, img_width, 3)),\n",
    "  layers.Conv2D(16, 3, padding='same', activation='relu'),\n",
    "  layers.MaxPooling2D(),\n",
    "  layers.Conv2D(32, 3, padding='same', activation='relu'),\n",
    "  layers.MaxPooling2D(),\n",
    "  layers.Conv2D(64, 3, padding='same', activation='relu'),\n",
    "  layers.MaxPooling2D(),\n",
    "  layers.Flatten(),\n",
    "  layers.Dense(128, activation='relu'),\n",
    "  layers.Dense(num_classes)\n",
    "])"
   ]
  },
  {
   "cell_type": "code",
   "execution_count": 10,
   "id": "183b76d7",
   "metadata": {},
   "outputs": [],
   "source": [
    "model.compile(optimizer='adam',\n",
    "              loss=tf.keras.losses.SparseCategoricalCrossentropy(from_logits=True),\n",
    "              metrics=['accuracy'])"
   ]
  },
  {
   "cell_type": "code",
   "execution_count": 11,
   "id": "4836f080",
   "metadata": {},
   "outputs": [
    {
     "name": "stdout",
     "output_type": "stream",
     "text": [
      "Model: \"sequential_1\"\n",
      "_________________________________________________________________\n",
      " Layer (type)                Output Shape              Param #   \n",
      "=================================================================\n",
      " rescaling_1 (Rescaling)     (None, 40, 40, 3)         0         \n",
      "                                                                 \n",
      " conv2d_6 (Conv2D)           (None, 40, 40, 16)        448       \n",
      "                                                                 \n",
      " max_pooling2d_6 (MaxPooling  (None, 20, 20, 16)       0         \n",
      " 2D)                                                             \n",
      "                                                                 \n",
      " conv2d_7 (Conv2D)           (None, 20, 20, 32)        4640      \n",
      "                                                                 \n",
      " max_pooling2d_7 (MaxPooling  (None, 10, 10, 32)       0         \n",
      " 2D)                                                             \n",
      "                                                                 \n",
      " conv2d_8 (Conv2D)           (None, 10, 10, 64)        18496     \n",
      "                                                                 \n",
      " max_pooling2d_8 (MaxPooling  (None, 5, 5, 64)         0         \n",
      " 2D)                                                             \n",
      "                                                                 \n",
      " flatten_1 (Flatten)         (None, 1600)              0         \n",
      "                                                                 \n",
      " dense_2 (Dense)             (None, 128)               204928    \n",
      "                                                                 \n",
      " dense_3 (Dense)             (None, 26)                3354      \n",
      "                                                                 \n",
      "=================================================================\n",
      "Total params: 231,866\n",
      "Trainable params: 231,866\n",
      "Non-trainable params: 0\n",
      "_________________________________________________________________\n"
     ]
    }
   ],
   "source": [
    "model.summary()\n"
   ]
  },
  {
   "cell_type": "code",
   "execution_count": 13,
   "id": "9bfa79dd",
   "metadata": {},
   "outputs": [
    {
     "name": "stdout",
     "output_type": "stream",
     "text": [
      "Epoch 1/50\n",
      "1404/1404 [==============================] - 38s 27ms/step - loss: 0.0541 - accuracy: 0.9882 - val_loss: 0.2331 - val_accuracy: 0.9835\n",
      "Epoch 2/50\n",
      "1404/1404 [==============================] - 34s 24ms/step - loss: 0.0483 - accuracy: 0.9886 - val_loss: 0.2291 - val_accuracy: 0.9831\n",
      "Epoch 3/50\n",
      "1404/1404 [==============================] - 34s 24ms/step - loss: 0.0515 - accuracy: 0.9883 - val_loss: 0.2004 - val_accuracy: 0.9838\n",
      "Epoch 4/50\n",
      "1404/1404 [==============================] - 35s 25ms/step - loss: 0.0451 - accuracy: 0.9886 - val_loss: 0.1737 - val_accuracy: 0.9834\n",
      "Epoch 5/50\n",
      "1404/1404 [==============================] - 38s 27ms/step - loss: 0.0469 - accuracy: 0.9888 - val_loss: 0.2661 - val_accuracy: 0.9803\n",
      "Epoch 6/50\n",
      "1404/1404 [==============================] - 38s 27ms/step - loss: 0.0610 - accuracy: 0.9884 - val_loss: 0.1523 - val_accuracy: 0.9854\n",
      "Epoch 7/50\n",
      "1404/1404 [==============================] - 36s 26ms/step - loss: 0.0439 - accuracy: 0.9891 - val_loss: 0.2311 - val_accuracy: 0.9838\n",
      "Epoch 8/50\n",
      "1404/1404 [==============================] - 37s 27ms/step - loss: 0.0523 - accuracy: 0.9885 - val_loss: 0.2818 - val_accuracy: 0.9816\n",
      "Epoch 9/50\n",
      "1404/1404 [==============================] - 36s 26ms/step - loss: 0.0536 - accuracy: 0.9881 - val_loss: 0.2098 - val_accuracy: 0.9842\n",
      "Epoch 10/50\n",
      "1404/1404 [==============================] - 33s 23ms/step - loss: 0.0491 - accuracy: 0.9888 - val_loss: 0.2234 - val_accuracy: 0.9832\n",
      "Epoch 11/50\n",
      "1404/1404 [==============================] - 37s 26ms/step - loss: 0.0442 - accuracy: 0.9890 - val_loss: 0.1757 - val_accuracy: 0.9842\n",
      "Epoch 12/50\n",
      "1404/1404 [==============================] - 36s 26ms/step - loss: 0.0548 - accuracy: 0.9883 - val_loss: 0.1738 - val_accuracy: 0.9847\n",
      "Epoch 13/50\n",
      "1404/1404 [==============================] - 34s 24ms/step - loss: 0.0505 - accuracy: 0.9886 - val_loss: 0.2559 - val_accuracy: 0.9821\n",
      "Epoch 14/50\n",
      "1404/1404 [==============================] - 34s 24ms/step - loss: 0.0471 - accuracy: 0.9886 - val_loss: 0.2213 - val_accuracy: 0.9840\n",
      "Epoch 15/50\n",
      "1404/1404 [==============================] - 33s 23ms/step - loss: 0.0472 - accuracy: 0.9890 - val_loss: 0.1950 - val_accuracy: 0.9839\n",
      "Epoch 16/50\n",
      "1404/1404 [==============================] - 33s 24ms/step - loss: 0.0545 - accuracy: 0.9884 - val_loss: 0.2188 - val_accuracy: 0.9827\n",
      "Epoch 17/50\n",
      "1404/1404 [==============================] - 34s 24ms/step - loss: 0.0470 - accuracy: 0.9888 - val_loss: 0.1630 - val_accuracy: 0.9849\n",
      "Epoch 18/50\n",
      "1404/1404 [==============================] - 33s 24ms/step - loss: 0.0484 - accuracy: 0.9885 - val_loss: 0.1903 - val_accuracy: 0.9848\n",
      "Epoch 19/50\n",
      "1404/1404 [==============================] - 34s 24ms/step - loss: 0.0595 - accuracy: 0.9881 - val_loss: 0.2432 - val_accuracy: 0.9833\n",
      "Epoch 20/50\n",
      "1404/1404 [==============================] - 32s 23ms/step - loss: 0.0650 - accuracy: 0.9875 - val_loss: 0.2418 - val_accuracy: 0.9830\n",
      "Epoch 21/50\n",
      "1404/1404 [==============================] - 36s 26ms/step - loss: 0.0534 - accuracy: 0.9884 - val_loss: 0.2456 - val_accuracy: 0.9831\n",
      "Epoch 22/50\n",
      "1404/1404 [==============================] - 34s 24ms/step - loss: 0.0496 - accuracy: 0.9884 - val_loss: 0.2643 - val_accuracy: 0.9838\n",
      "Epoch 23/50\n",
      "1404/1404 [==============================] - 36s 25ms/step - loss: 0.0529 - accuracy: 0.9883 - val_loss: 0.2177 - val_accuracy: 0.9843\n",
      "Epoch 24/50\n",
      "1404/1404 [==============================] - 33s 24ms/step - loss: 0.0439 - accuracy: 0.9888 - val_loss: 0.2323 - val_accuracy: 0.9843\n",
      "Epoch 25/50\n",
      "1404/1404 [==============================] - 47s 34ms/step - loss: 0.0529 - accuracy: 0.9884 - val_loss: 0.3762 - val_accuracy: 0.9807\n",
      "Epoch 26/50\n",
      "1404/1404 [==============================] - 49s 35ms/step - loss: 0.0551 - accuracy: 0.9883 - val_loss: 0.2593 - val_accuracy: 0.9838\n",
      "Epoch 27/50\n",
      "1404/1404 [==============================] - 40s 28ms/step - loss: 0.0527 - accuracy: 0.9882 - val_loss: 0.2128 - val_accuracy: 0.9829\n",
      "Epoch 28/50\n",
      "1404/1404 [==============================] - 39s 28ms/step - loss: 0.0476 - accuracy: 0.9888 - val_loss: 0.2873 - val_accuracy: 0.9824\n",
      "Epoch 29/50\n",
      "1404/1404 [==============================] - 33s 23ms/step - loss: 0.0499 - accuracy: 0.9888 - val_loss: 0.1766 - val_accuracy: 0.9855\n",
      "Epoch 30/50\n",
      "1404/1404 [==============================] - 35s 25ms/step - loss: 0.0478 - accuracy: 0.9891 - val_loss: 0.3073 - val_accuracy: 0.9819\n",
      "Epoch 31/50\n",
      "1404/1404 [==============================] - 40s 28ms/step - loss: 0.0573 - accuracy: 0.9883 - val_loss: 0.1994 - val_accuracy: 0.9847\n",
      "Epoch 32/50\n",
      "1404/1404 [==============================] - 38s 27ms/step - loss: 0.0428 - accuracy: 0.9890 - val_loss: 0.2641 - val_accuracy: 0.9815\n",
      "Epoch 33/50\n",
      "1404/1404 [==============================] - 40s 28ms/step - loss: 0.0573 - accuracy: 0.9880 - val_loss: 0.1825 - val_accuracy: 0.9850\n",
      "Epoch 34/50\n",
      "1404/1404 [==============================] - 39s 28ms/step - loss: 0.0530 - accuracy: 0.9884 - val_loss: 0.2232 - val_accuracy: 0.9842\n",
      "Epoch 35/50\n",
      "1404/1404 [==============================] - 40s 29ms/step - loss: 0.0465 - accuracy: 0.9888 - val_loss: 0.2253 - val_accuracy: 0.9846\n",
      "Epoch 36/50\n",
      "1404/1404 [==============================] - 43s 31ms/step - loss: 0.0544 - accuracy: 0.9886 - val_loss: 0.2629 - val_accuracy: 0.9837\n",
      "Epoch 37/50\n",
      "1404/1404 [==============================] - 49s 35ms/step - loss: 0.0484 - accuracy: 0.9885 - val_loss: 0.2533 - val_accuracy: 0.9832\n",
      "Epoch 38/50\n",
      "1404/1404 [==============================] - 42s 30ms/step - loss: 0.0475 - accuracy: 0.9888 - val_loss: 0.2878 - val_accuracy: 0.9842\n",
      "Epoch 39/50\n",
      "1404/1404 [==============================] - 43s 30ms/step - loss: 0.0526 - accuracy: 0.9881 - val_loss: 0.2848 - val_accuracy: 0.9817\n",
      "Epoch 40/50\n",
      "1404/1404 [==============================] - 48s 34ms/step - loss: 0.0545 - accuracy: 0.9884 - val_loss: 0.2476 - val_accuracy: 0.9835\n",
      "Epoch 41/50\n",
      "1404/1404 [==============================] - 44s 32ms/step - loss: 0.0462 - accuracy: 0.9886 - val_loss: 0.2709 - val_accuracy: 0.9826\n",
      "Epoch 42/50\n",
      "1404/1404 [==============================] - 40s 28ms/step - loss: 0.0592 - accuracy: 0.9885 - val_loss: 0.2222 - val_accuracy: 0.9845\n",
      "Epoch 43/50\n",
      "1404/1404 [==============================] - 38s 27ms/step - loss: 0.0586 - accuracy: 0.9888 - val_loss: 0.2006 - val_accuracy: 0.9835\n",
      "Epoch 44/50\n",
      "1404/1404 [==============================] - 45s 32ms/step - loss: 0.0377 - accuracy: 0.9892 - val_loss: 0.2213 - val_accuracy: 0.9858\n",
      "Epoch 45/50\n",
      "1404/1404 [==============================] - 51s 36ms/step - loss: 0.0406 - accuracy: 0.9889 - val_loss: 0.2609 - val_accuracy: 0.9822\n",
      "Epoch 46/50\n",
      "1404/1404 [==============================] - 40s 29ms/step - loss: 0.0539 - accuracy: 0.9883 - val_loss: 0.2619 - val_accuracy: 0.9825\n",
      "Epoch 47/50\n",
      "1404/1404 [==============================] - 31s 22ms/step - loss: 0.0547 - accuracy: 0.9886 - val_loss: 0.2777 - val_accuracy: 0.9817\n",
      "Epoch 48/50\n",
      "1404/1404 [==============================] - 45s 32ms/step - loss: 0.0596 - accuracy: 0.9881 - val_loss: 0.2961 - val_accuracy: 0.9825\n",
      "Epoch 49/50\n",
      "1404/1404 [==============================] - 47s 34ms/step - loss: 0.0389 - accuracy: 0.9895 - val_loss: 0.2050 - val_accuracy: 0.9862\n",
      "Epoch 50/50\n",
      "1404/1404 [==============================] - 42s 30ms/step - loss: 0.0516 - accuracy: 0.9887 - val_loss: 0.2139 - val_accuracy: 0.9850\n"
     ]
    }
   ],
   "source": [
    "epochs=50\n",
    "history = model.fit(\n",
    "  train_ds,\n",
    "  validation_data=val_ds,\n",
    "  epochs=epochs\n",
    ")"
   ]
  },
  {
   "cell_type": "code",
   "execution_count": 14,
   "id": "210a18a4",
   "metadata": {},
   "outputs": [
    {
     "data": {
      "image/png": "[encoded data removed]",
      "text/plain": [
       "<Figure size 576x576 with 2 Axes>"
      ]
     },
     "metadata": {
      "needs_background": "light"
     },
     "output_type": "display_data"
    }
   ],
   "source": [
    "acc = history.history['accuracy']\n",
    "val_acc = history.history['val_accuracy']\n",
    "\n",
    "loss = history.history['loss']\n",
    "val_loss = history.history['val_loss']\n",
    "\n",
    "epochs_range = range(epochs)\n",
    "\n",
    "plt.figure(figsize=(8, 8))\n",
    "plt.subplot(1, 2, 1)\n",
    "plt.plot(epochs_range, acc, label='Training Accuracy')\n",
    "plt.plot(epochs_range, val_acc, label='Validation Accuracy')\n",
    "plt.legend(loc='lower right')\n",
    "plt.title('Training and Validation Accuracy')\n",
    "\n",
    "plt.subplot(1, 2, 2)\n",
    "plt.plot(epochs_range, loss, label='Training Loss')\n",
    "plt.plot(epochs_range, val_loss, label='Validation Loss')\n",
    "plt.legend(loc='upper right')\n",
    "plt.title('Training and Validation Loss')\n",
    "plt.show()"
   ]
  },
  {
   "cell_type": "code",
   "execution_count": 17,
   "id": "1a6b630c",
   "metadata": {},
   "outputs": [
    {
     "name": "stdout",
     "output_type": "stream",
     "text": [
      "1/1 [==============================] - 0s 20ms/step\n",
      "This image most likely belongs to b with a 100.00 percent confidence.\n"
     ]
    }
   ],
   "source": [
    "Alphabets_url = \"./Alphabets/b/b15.png\"\n",
    "\n",
    "img = tf.keras.utils.load_img(\n",
    "    Alphabets_url, target_size=(img_height, img_width)\n",
    ")\n",
    "img_array = tf.keras.utils.img_to_array(img)\n",
    "img_array = tf.expand_dims(img_array, 0) # Create a batch\n",
    "\n",
    "predictions = model.predict(img_array)\n",
    "score = tf.nn.softmax(predictions[0])\n",
    "\n",
    "print(\n",
    "    \"This image most likely belongs to {} with a {:.2f} percent confidence.\"\n",
    "    .format(class_names[np.argmax(score)], 100 * np.max(score))\n",
    ")"
   ]
  },
  {
   "cell_type": "code",
   "execution_count": 18,
   "id": "2a4c836d",
   "metadata": {},
   "outputs": [
    {
     "name": "stderr",
     "output_type": "stream",
     "text": [
      "WARNING:absl:Found untraced functions such as _jit_compiled_convolution_op, _jit_compiled_convolution_op, _jit_compiled_convolution_op, _update_step_xla while saving (showing 4 of 4). These functions will not be directly callable after loading.\n"
     ]
    },
    {
     "name": "stdout",
     "output_type": "stream",
     "text": [
      "INFO:tensorflow:Assets written to: Alphabets/alphabet\\assets\n"
     ]
    },
    {
     "name": "stderr",
     "output_type": "stream",
     "text": [
      "INFO:tensorflow:Assets written to: Alphabets/alphabet\\assets\n"
     ]
    }
   ],
   "source": [
    "model.save('Alphabets/alphabet')"
   ]
  },
  {
   "cell_type": "code",
   "execution_count": 19,
   "id": "c79fce3a",
   "metadata": {},
   "outputs": [
    {
     "name": "stderr",
     "output_type": "stream",
     "text": [
      "WARNING:absl:Found untraced functions such as _jit_compiled_convolution_op, _jit_compiled_convolution_op, _jit_compiled_convolution_op, _update_step_xla while saving (showing 4 of 4). These functions will not be directly callable after loading.\n"
     ]
    },
    {
     "name": "stdout",
     "output_type": "stream",
     "text": [
      "INFO:tensorflow:Assets written to: C:\\Users\\ASUS\\AppData\\Local\\Temp\\tmpltcivzvs\\assets\n"
     ]
    },
    {
     "name": "stderr",
     "output_type": "stream",
     "text": [
      "INFO:tensorflow:Assets written to: C:\\Users\\ASUS\\AppData\\Local\\Temp\\tmpltcivzvs\\assets\n"
     ]
    }
   ],
   "source": [
    "# Convert the model.\n",
    "converter = tf.lite.TFLiteConverter.from_keras_model(model)\n",
    "tflite_model = converter.convert()\n",
    "\n",
    "# Save the model.\n",
    "with open('alphabet.tflite', 'wb') as f:\n",
    "  f.write(tflite_model)"
   ]
  },
  {
   "cell_type": "code",
   "execution_count": 20,
   "id": "36329e1c",
   "metadata": {},
   "outputs": [
    {
     "name": "stdout",
     "output_type": "stream",
     "text": [
      "1404/1404 [==============================] - 15s 11ms/step - loss: 0.0424 - accuracy: 0.9892\n"
     ]
    },
    {
     "data": {
      "text/plain": [
       "[0.04235199838876724, 0.989160418510437]"
      ]
     },
     "execution_count": 20,
     "metadata": {},
     "output_type": "execute_result"
    }
   ],
   "source": [
    "model.evaluate(train_ds)"
   ]
  },
  {
   "cell_type": "code",
   "execution_count": null,
   "id": "adfdce61",
   "metadata": {},
   "outputs": [],
   "source": []
  }
 ],
 "metadata": {
  "kernelspec": {
   "display_name": "Python 3 (ipykernel)",
   "language": "python",
   "name": "python3"
  },
  "language_info": {
   "codemirror_mode": {
    "name": "ipython",
    "version": 3
   },
   "file_extension": ".py",
   "mimetype": "text/x-python",
   "name": "python",
   "nbconvert_exporter": "python",
   "pygments_lexer": "ipython3",
   "version": "3.9.12"
  }
 },
 "nbformat": 4,
 "nbformat_minor": 5
}
